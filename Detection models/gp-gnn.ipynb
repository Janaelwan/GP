{
 "cells": [
  {
   "cell_type": "code",
   "execution_count": null,
   "id": "cc3a5b62",
   "metadata": {
    "papermill": {
     "duration": 0.012574,
     "end_time": "2024-06-25T14:14:23.386161",
     "exception": false,
     "start_time": "2024-06-25T14:14:23.373587",
     "status": "completed"
    },
    "tags": []
   },
   "outputs": [],
   "source": []
  },
  {
   "cell_type": "code",
   "execution_count": 1,
   "id": "28d3a0ff",
   "metadata": {
    "_cell_guid": "b1076dfc-b9ad-4769-8c92-a6c4dae69d19",
    "_uuid": "8f2839f25d086af736a60e9eeb907d3b93b6e0e5",
    "execution": {
     "iopub.execute_input": "2024-06-25T14:14:23.409974Z",
     "iopub.status.busy": "2024-06-25T14:14:23.409507Z",
     "iopub.status.idle": "2024-06-25T14:14:50.311577Z",
     "shell.execute_reply": "2024-06-25T14:14:50.310454Z"
    },
    "papermill": {
     "duration": 26.91735,
     "end_time": "2024-06-25T14:14:50.314463",
     "exception": false,
     "start_time": "2024-06-25T14:14:23.397113",
     "status": "completed"
    },
    "tags": []
   },
   "outputs": [
    {
     "name": "stdout",
     "output_type": "stream",
     "text": [
      "Collecting dgl\r\n",
      "  Downloading dgl-2.1.0-cp310-cp310-manylinux1_x86_64.whl.metadata (553 bytes)\r\n",
      "Requirement already satisfied: numpy>=1.14.0 in /opt/conda/lib/python3.10/site-packages (from dgl) (1.26.4)\r\n",
      "Requirement already satisfied: scipy>=1.1.0 in /opt/conda/lib/python3.10/site-packages (from dgl) (1.11.4)\r\n",
      "Requirement already satisfied: networkx>=2.1 in /opt/conda/lib/python3.10/site-packages (from dgl) (3.2.1)\r\n",
      "Requirement already satisfied: requests>=2.19.0 in /opt/conda/lib/python3.10/site-packages (from dgl) (2.32.3)\r\n",
      "Requirement already satisfied: tqdm in /opt/conda/lib/python3.10/site-packages (from dgl) (4.66.4)\r\n",
      "Requirement already satisfied: psutil>=5.8.0 in /opt/conda/lib/python3.10/site-packages (from dgl) (5.9.3)\r\n",
      "Requirement already satisfied: torchdata>=0.5.0 in /opt/conda/lib/python3.10/site-packages (from dgl) (0.7.1)\r\n",
      "Requirement already satisfied: charset-normalizer<4,>=2 in /opt/conda/lib/python3.10/site-packages (from requests>=2.19.0->dgl) (3.3.2)\r\n",
      "Requirement already satisfied: idna<4,>=2.5 in /opt/conda/lib/python3.10/site-packages (from requests>=2.19.0->dgl) (3.6)\r\n",
      "Requirement already satisfied: urllib3<3,>=1.21.1 in /opt/conda/lib/python3.10/site-packages (from requests>=2.19.0->dgl) (1.26.18)\r\n",
      "Requirement already satisfied: certifi>=2017.4.17 in /opt/conda/lib/python3.10/site-packages (from requests>=2.19.0->dgl) (2024.2.2)\r\n",
      "Requirement already satisfied: torch>=2 in /opt/conda/lib/python3.10/site-packages (from torchdata>=0.5.0->dgl) (2.1.2+cpu)\r\n",
      "Requirement already satisfied: filelock in /opt/conda/lib/python3.10/site-packages (from torch>=2->torchdata>=0.5.0->dgl) (3.13.1)\r\n",
      "Requirement already satisfied: typing-extensions in /opt/conda/lib/python3.10/site-packages (from torch>=2->torchdata>=0.5.0->dgl) (4.9.0)\r\n",
      "Requirement already satisfied: sympy in /opt/conda/lib/python3.10/site-packages (from torch>=2->torchdata>=0.5.0->dgl) (1.12.1)\r\n",
      "Requirement already satisfied: jinja2 in /opt/conda/lib/python3.10/site-packages (from torch>=2->torchdata>=0.5.0->dgl) (3.1.2)\r\n",
      "Requirement already satisfied: fsspec in /opt/conda/lib/python3.10/site-packages (from torch>=2->torchdata>=0.5.0->dgl) (2024.3.1)\r\n",
      "Requirement already satisfied: MarkupSafe>=2.0 in /opt/conda/lib/python3.10/site-packages (from jinja2->torch>=2->torchdata>=0.5.0->dgl) (2.1.3)\r\n",
      "Requirement already satisfied: mpmath<1.4.0,>=1.1.0 in /opt/conda/lib/python3.10/site-packages (from sympy->torch>=2->torchdata>=0.5.0->dgl) (1.3.0)\r\n",
      "Downloading dgl-2.1.0-cp310-cp310-manylinux1_x86_64.whl (8.5 MB)\r\n",
      "\u001b[2K   \u001b[90m━━━━━━━━━━━━━━━━━━━━━━━━━━━━━━━━━━━━━━━━\u001b[0m \u001b[32m8.5/8.5 MB\u001b[0m \u001b[31m64.5 MB/s\u001b[0m eta \u001b[36m0:00:00\u001b[0m\r\n",
      "\u001b[?25hInstalling collected packages: dgl\r\n",
      "Successfully installed dgl-2.1.0\r\n"
     ]
    }
   ],
   "source": [
    "import numpy as np\n",
    "import pandas as pd\n",
    "from time import time\n",
    "\n",
    "# import pytorch and set dgl backend to pytorch\n",
    "import os\n",
    "os.environ['DGLBACKEND'] = 'pytorch'\n",
    "import torch\n",
    "import torch.nn  as nn\n",
    "import torch.nn.functional as F\n",
    "\n",
    "try:\n",
    "    import dgl\n",
    "except ModuleNotFoundError:\n",
    "    !pip install dgl\n",
    "    import dgl\n",
    "\n",
    "import networkx as nx\n",
    "import matplotlib.pyplot as plt\n",
    "\n",
    "from sklearn.metrics import confusion_matrix"
   ]
  },
  {
   "cell_type": "code",
   "execution_count": 2,
   "id": "fab18eb0",
   "metadata": {
    "execution": {
     "iopub.execute_input": "2024-06-25T14:14:50.343142Z",
     "iopub.status.busy": "2024-06-25T14:14:50.342184Z",
     "iopub.status.idle": "2024-06-25T14:15:26.867225Z",
     "shell.execute_reply": "2024-06-25T14:15:26.866026Z"
    },
    "papermill": {
     "duration": 36.540828,
     "end_time": "2024-06-25T14:15:26.869705",
     "exception": false,
     "start_time": "2024-06-25T14:14:50.328877",
     "status": "completed"
    },
    "tags": []
   },
   "outputs": [
    {
     "name": "stdout",
     "output_type": "stream",
     "text": [
      "Number of transactions:  590540\n",
      "Proportion of fraudulent transaction: 0.0350\n",
      "Number of transaction with ID data:  144233\n",
      "----------------------------------------\n",
      "Dataframe head:\n"
     ]
    },
    {
     "data": {
      "text/html": [
       "<div>\n",
       "<style scoped>\n",
       "    .dataframe tbody tr th:only-of-type {\n",
       "        vertical-align: middle;\n",
       "    }\n",
       "\n",
       "    .dataframe tbody tr th {\n",
       "        vertical-align: top;\n",
       "    }\n",
       "\n",
       "    .dataframe thead th {\n",
       "        text-align: right;\n",
       "    }\n",
       "</style>\n",
       "<table border=\"1\" class=\"dataframe\">\n",
       "  <thead>\n",
       "    <tr style=\"text-align: right;\">\n",
       "      <th></th>\n",
       "      <th>TransactionID</th>\n",
       "      <th>isFraud</th>\n",
       "      <th>TransactionDT</th>\n",
       "      <th>TransactionAmt</th>\n",
       "      <th>ProductCD</th>\n",
       "      <th>card1</th>\n",
       "      <th>card2</th>\n",
       "      <th>card3</th>\n",
       "      <th>card4</th>\n",
       "      <th>card5</th>\n",
       "      <th>...</th>\n",
       "      <th>V330</th>\n",
       "      <th>V331</th>\n",
       "      <th>V332</th>\n",
       "      <th>V333</th>\n",
       "      <th>V334</th>\n",
       "      <th>V335</th>\n",
       "      <th>V336</th>\n",
       "      <th>V337</th>\n",
       "      <th>V338</th>\n",
       "      <th>V339</th>\n",
       "    </tr>\n",
       "  </thead>\n",
       "  <tbody>\n",
       "    <tr>\n",
       "      <th>0</th>\n",
       "      <td>2987000</td>\n",
       "      <td>0</td>\n",
       "      <td>86400</td>\n",
       "      <td>68.5</td>\n",
       "      <td>W</td>\n",
       "      <td>13926</td>\n",
       "      <td>NaN</td>\n",
       "      <td>150.0</td>\n",
       "      <td>discover</td>\n",
       "      <td>142.0</td>\n",
       "      <td>...</td>\n",
       "      <td>NaN</td>\n",
       "      <td>NaN</td>\n",
       "      <td>NaN</td>\n",
       "      <td>NaN</td>\n",
       "      <td>NaN</td>\n",
       "      <td>NaN</td>\n",
       "      <td>NaN</td>\n",
       "      <td>NaN</td>\n",
       "      <td>NaN</td>\n",
       "      <td>NaN</td>\n",
       "    </tr>\n",
       "    <tr>\n",
       "      <th>1</th>\n",
       "      <td>2987001</td>\n",
       "      <td>0</td>\n",
       "      <td>86401</td>\n",
       "      <td>29.0</td>\n",
       "      <td>W</td>\n",
       "      <td>2755</td>\n",
       "      <td>404.0</td>\n",
       "      <td>150.0</td>\n",
       "      <td>mastercard</td>\n",
       "      <td>102.0</td>\n",
       "      <td>...</td>\n",
       "      <td>NaN</td>\n",
       "      <td>NaN</td>\n",
       "      <td>NaN</td>\n",
       "      <td>NaN</td>\n",
       "      <td>NaN</td>\n",
       "      <td>NaN</td>\n",
       "      <td>NaN</td>\n",
       "      <td>NaN</td>\n",
       "      <td>NaN</td>\n",
       "      <td>NaN</td>\n",
       "    </tr>\n",
       "    <tr>\n",
       "      <th>2</th>\n",
       "      <td>2987002</td>\n",
       "      <td>0</td>\n",
       "      <td>86469</td>\n",
       "      <td>59.0</td>\n",
       "      <td>W</td>\n",
       "      <td>4663</td>\n",
       "      <td>490.0</td>\n",
       "      <td>150.0</td>\n",
       "      <td>visa</td>\n",
       "      <td>166.0</td>\n",
       "      <td>...</td>\n",
       "      <td>NaN</td>\n",
       "      <td>NaN</td>\n",
       "      <td>NaN</td>\n",
       "      <td>NaN</td>\n",
       "      <td>NaN</td>\n",
       "      <td>NaN</td>\n",
       "      <td>NaN</td>\n",
       "      <td>NaN</td>\n",
       "      <td>NaN</td>\n",
       "      <td>NaN</td>\n",
       "    </tr>\n",
       "    <tr>\n",
       "      <th>3</th>\n",
       "      <td>2987003</td>\n",
       "      <td>0</td>\n",
       "      <td>86499</td>\n",
       "      <td>50.0</td>\n",
       "      <td>W</td>\n",
       "      <td>18132</td>\n",
       "      <td>567.0</td>\n",
       "      <td>150.0</td>\n",
       "      <td>mastercard</td>\n",
       "      <td>117.0</td>\n",
       "      <td>...</td>\n",
       "      <td>NaN</td>\n",
       "      <td>NaN</td>\n",
       "      <td>NaN</td>\n",
       "      <td>NaN</td>\n",
       "      <td>NaN</td>\n",
       "      <td>NaN</td>\n",
       "      <td>NaN</td>\n",
       "      <td>NaN</td>\n",
       "      <td>NaN</td>\n",
       "      <td>NaN</td>\n",
       "    </tr>\n",
       "    <tr>\n",
       "      <th>4</th>\n",
       "      <td>2987004</td>\n",
       "      <td>0</td>\n",
       "      <td>86506</td>\n",
       "      <td>50.0</td>\n",
       "      <td>H</td>\n",
       "      <td>4497</td>\n",
       "      <td>514.0</td>\n",
       "      <td>150.0</td>\n",
       "      <td>mastercard</td>\n",
       "      <td>102.0</td>\n",
       "      <td>...</td>\n",
       "      <td>0.0</td>\n",
       "      <td>0.0</td>\n",
       "      <td>0.0</td>\n",
       "      <td>0.0</td>\n",
       "      <td>0.0</td>\n",
       "      <td>0.0</td>\n",
       "      <td>0.0</td>\n",
       "      <td>0.0</td>\n",
       "      <td>0.0</td>\n",
       "      <td>0.0</td>\n",
       "    </tr>\n",
       "  </tbody>\n",
       "</table>\n",
       "<p>5 rows × 394 columns</p>\n",
       "</div>"
      ],
      "text/plain": [
       "   TransactionID  isFraud  TransactionDT  TransactionAmt ProductCD  card1  \\\n",
       "0        2987000        0          86400            68.5         W  13926   \n",
       "1        2987001        0          86401            29.0         W   2755   \n",
       "2        2987002        0          86469            59.0         W   4663   \n",
       "3        2987003        0          86499            50.0         W  18132   \n",
       "4        2987004        0          86506            50.0         H   4497   \n",
       "\n",
       "   card2  card3       card4  card5  ... V330  V331  V332  V333  V334 V335  \\\n",
       "0    NaN  150.0    discover  142.0  ...  NaN   NaN   NaN   NaN   NaN  NaN   \n",
       "1  404.0  150.0  mastercard  102.0  ...  NaN   NaN   NaN   NaN   NaN  NaN   \n",
       "2  490.0  150.0        visa  166.0  ...  NaN   NaN   NaN   NaN   NaN  NaN   \n",
       "3  567.0  150.0  mastercard  117.0  ...  NaN   NaN   NaN   NaN   NaN  NaN   \n",
       "4  514.0  150.0  mastercard  102.0  ...  0.0   0.0   0.0   0.0   0.0  0.0   \n",
       "\n",
       "  V336  V337  V338  V339  \n",
       "0  NaN   NaN   NaN   NaN  \n",
       "1  NaN   NaN   NaN   NaN  \n",
       "2  NaN   NaN   NaN   NaN  \n",
       "3  NaN   NaN   NaN   NaN  \n",
       "4  0.0   0.0   0.0   0.0  \n",
       "\n",
       "[5 rows x 394 columns]"
      ]
     },
     "metadata": {},
     "output_type": "display_data"
    },
    {
     "data": {
      "text/html": [
       "<div>\n",
       "<style scoped>\n",
       "    .dataframe tbody tr th:only-of-type {\n",
       "        vertical-align: middle;\n",
       "    }\n",
       "\n",
       "    .dataframe tbody tr th {\n",
       "        vertical-align: top;\n",
       "    }\n",
       "\n",
       "    .dataframe thead th {\n",
       "        text-align: right;\n",
       "    }\n",
       "</style>\n",
       "<table border=\"1\" class=\"dataframe\">\n",
       "  <thead>\n",
       "    <tr style=\"text-align: right;\">\n",
       "      <th></th>\n",
       "      <th>TransactionID</th>\n",
       "      <th>id_01</th>\n",
       "      <th>id_02</th>\n",
       "      <th>id_03</th>\n",
       "      <th>id_04</th>\n",
       "      <th>id_05</th>\n",
       "      <th>id_06</th>\n",
       "      <th>id_07</th>\n",
       "      <th>id_08</th>\n",
       "      <th>id_09</th>\n",
       "      <th>...</th>\n",
       "      <th>id_31</th>\n",
       "      <th>id_32</th>\n",
       "      <th>id_33</th>\n",
       "      <th>id_34</th>\n",
       "      <th>id_35</th>\n",
       "      <th>id_36</th>\n",
       "      <th>id_37</th>\n",
       "      <th>id_38</th>\n",
       "      <th>DeviceType</th>\n",
       "      <th>DeviceInfo</th>\n",
       "    </tr>\n",
       "  </thead>\n",
       "  <tbody>\n",
       "    <tr>\n",
       "      <th>0</th>\n",
       "      <td>2987004</td>\n",
       "      <td>0.0</td>\n",
       "      <td>70787.0</td>\n",
       "      <td>NaN</td>\n",
       "      <td>NaN</td>\n",
       "      <td>NaN</td>\n",
       "      <td>NaN</td>\n",
       "      <td>NaN</td>\n",
       "      <td>NaN</td>\n",
       "      <td>NaN</td>\n",
       "      <td>...</td>\n",
       "      <td>samsung browser 6.2</td>\n",
       "      <td>32.0</td>\n",
       "      <td>2220x1080</td>\n",
       "      <td>match_status:2</td>\n",
       "      <td>T</td>\n",
       "      <td>F</td>\n",
       "      <td>T</td>\n",
       "      <td>T</td>\n",
       "      <td>mobile</td>\n",
       "      <td>SAMSUNG SM-G892A Build/NRD90M</td>\n",
       "    </tr>\n",
       "    <tr>\n",
       "      <th>1</th>\n",
       "      <td>2987008</td>\n",
       "      <td>-5.0</td>\n",
       "      <td>98945.0</td>\n",
       "      <td>NaN</td>\n",
       "      <td>NaN</td>\n",
       "      <td>0.0</td>\n",
       "      <td>-5.0</td>\n",
       "      <td>NaN</td>\n",
       "      <td>NaN</td>\n",
       "      <td>NaN</td>\n",
       "      <td>...</td>\n",
       "      <td>mobile safari 11.0</td>\n",
       "      <td>32.0</td>\n",
       "      <td>1334x750</td>\n",
       "      <td>match_status:1</td>\n",
       "      <td>T</td>\n",
       "      <td>F</td>\n",
       "      <td>F</td>\n",
       "      <td>T</td>\n",
       "      <td>mobile</td>\n",
       "      <td>iOS Device</td>\n",
       "    </tr>\n",
       "    <tr>\n",
       "      <th>2</th>\n",
       "      <td>2987010</td>\n",
       "      <td>-5.0</td>\n",
       "      <td>191631.0</td>\n",
       "      <td>0.0</td>\n",
       "      <td>0.0</td>\n",
       "      <td>0.0</td>\n",
       "      <td>0.0</td>\n",
       "      <td>NaN</td>\n",
       "      <td>NaN</td>\n",
       "      <td>0.0</td>\n",
       "      <td>...</td>\n",
       "      <td>chrome 62.0</td>\n",
       "      <td>NaN</td>\n",
       "      <td>NaN</td>\n",
       "      <td>NaN</td>\n",
       "      <td>F</td>\n",
       "      <td>F</td>\n",
       "      <td>T</td>\n",
       "      <td>T</td>\n",
       "      <td>desktop</td>\n",
       "      <td>Windows</td>\n",
       "    </tr>\n",
       "    <tr>\n",
       "      <th>3</th>\n",
       "      <td>2987011</td>\n",
       "      <td>-5.0</td>\n",
       "      <td>221832.0</td>\n",
       "      <td>NaN</td>\n",
       "      <td>NaN</td>\n",
       "      <td>0.0</td>\n",
       "      <td>-6.0</td>\n",
       "      <td>NaN</td>\n",
       "      <td>NaN</td>\n",
       "      <td>NaN</td>\n",
       "      <td>...</td>\n",
       "      <td>chrome 62.0</td>\n",
       "      <td>NaN</td>\n",
       "      <td>NaN</td>\n",
       "      <td>NaN</td>\n",
       "      <td>F</td>\n",
       "      <td>F</td>\n",
       "      <td>T</td>\n",
       "      <td>T</td>\n",
       "      <td>desktop</td>\n",
       "      <td>NaN</td>\n",
       "    </tr>\n",
       "    <tr>\n",
       "      <th>4</th>\n",
       "      <td>2987016</td>\n",
       "      <td>0.0</td>\n",
       "      <td>7460.0</td>\n",
       "      <td>0.0</td>\n",
       "      <td>0.0</td>\n",
       "      <td>1.0</td>\n",
       "      <td>0.0</td>\n",
       "      <td>NaN</td>\n",
       "      <td>NaN</td>\n",
       "      <td>0.0</td>\n",
       "      <td>...</td>\n",
       "      <td>chrome 62.0</td>\n",
       "      <td>24.0</td>\n",
       "      <td>1280x800</td>\n",
       "      <td>match_status:2</td>\n",
       "      <td>T</td>\n",
       "      <td>F</td>\n",
       "      <td>T</td>\n",
       "      <td>T</td>\n",
       "      <td>desktop</td>\n",
       "      <td>MacOS</td>\n",
       "    </tr>\n",
       "  </tbody>\n",
       "</table>\n",
       "<p>5 rows × 41 columns</p>\n",
       "</div>"
      ],
      "text/plain": [
       "   TransactionID  id_01     id_02  id_03  id_04  id_05  id_06  id_07  id_08  \\\n",
       "0        2987004    0.0   70787.0    NaN    NaN    NaN    NaN    NaN    NaN   \n",
       "1        2987008   -5.0   98945.0    NaN    NaN    0.0   -5.0    NaN    NaN   \n",
       "2        2987010   -5.0  191631.0    0.0    0.0    0.0    0.0    NaN    NaN   \n",
       "3        2987011   -5.0  221832.0    NaN    NaN    0.0   -6.0    NaN    NaN   \n",
       "4        2987016    0.0    7460.0    0.0    0.0    1.0    0.0    NaN    NaN   \n",
       "\n",
       "   id_09  ...                id_31  id_32      id_33           id_34  id_35  \\\n",
       "0    NaN  ...  samsung browser 6.2   32.0  2220x1080  match_status:2      T   \n",
       "1    NaN  ...   mobile safari 11.0   32.0   1334x750  match_status:1      T   \n",
       "2    0.0  ...          chrome 62.0    NaN        NaN             NaN      F   \n",
       "3    NaN  ...          chrome 62.0    NaN        NaN             NaN      F   \n",
       "4    0.0  ...          chrome 62.0   24.0   1280x800  match_status:2      T   \n",
       "\n",
       "  id_36 id_37  id_38  DeviceType                     DeviceInfo  \n",
       "0     F     T      T      mobile  SAMSUNG SM-G892A Build/NRD90M  \n",
       "1     F     F      T      mobile                     iOS Device  \n",
       "2     F     T      T     desktop                        Windows  \n",
       "3     F     T      T     desktop                            NaN  \n",
       "4     F     T      T     desktop                          MacOS  \n",
       "\n",
       "[5 rows x 41 columns]"
      ]
     },
     "metadata": {},
     "output_type": "display_data"
    }
   ],
   "source": [
    "transactions_df = pd.read_csv('/kaggle/input/ieee-fraud-detection/train_transaction.csv')\n",
    "num_transactions = transactions_df.shape[0]\n",
    "print(\"Number of transactions: \", num_transactions)\n",
    "print(f\"Proportion of fraudulent transaction: {transactions_df.isFraud.value_counts(normalize=True)[1]:.4f}\")\n",
    "identity_df = pd.read_csv('/kaggle/input/ieee-fraud-detection/train_identity.csv')\n",
    "print(\"Number of transaction with ID data: \",identity_df.shape[0])\n",
    "print('-'*40)\n",
    "print(\"Dataframe head:\")\n",
    "display(transactions_df.head())\n",
    "display(identity_df.head())"
   ]
  },
  {
   "cell_type": "code",
   "execution_count": 3,
   "id": "63e601f2",
   "metadata": {
    "execution": {
     "iopub.execute_input": "2024-06-25T14:15:26.897564Z",
     "iopub.status.busy": "2024-06-25T14:15:26.897151Z",
     "iopub.status.idle": "2024-06-25T14:15:26.903849Z",
     "shell.execute_reply": "2024-06-25T14:15:26.902785Z"
    },
    "papermill": {
     "duration": 0.023437,
     "end_time": "2024-06-25T14:15:26.906189",
     "exception": false,
     "start_time": "2024-06-25T14:15:26.882752",
     "status": "completed"
    },
    "tags": []
   },
   "outputs": [],
   "source": [
    "# user set the ratio\n",
    "TRAIN_VAL_RATIO = 0.75\n",
    "\n",
    "# determine number of training records\n",
    "n_train = int(transactions_df.shape[0]*TRAIN_VAL_RATIO)\n",
    "\n",
    "# train/val split : split by time, training set preceeds val set.\n",
    "train_ids = transactions_df.TransactionID[:n_train]\n",
    "val_ids = transactions_df.TransactionID[n_train:]"
   ]
  },
  {
   "cell_type": "code",
   "execution_count": 4,
   "id": "22f9b1ed",
   "metadata": {
    "execution": {
     "iopub.execute_input": "2024-06-25T14:15:26.934229Z",
     "iopub.status.busy": "2024-06-25T14:15:26.933816Z",
     "iopub.status.idle": "2024-06-25T14:15:33.056838Z",
     "shell.execute_reply": "2024-06-25T14:15:33.055634Z"
    },
    "papermill": {
     "duration": 6.140219,
     "end_time": "2024-06-25T14:15:33.059553",
     "exception": false,
     "start_time": "2024-06-25T14:15:26.919334",
     "status": "completed"
    },
    "tags": []
   },
   "outputs": [
    {
     "data": {
      "image/png": "[encoded data removed]",
      "text/plain": [
       "<Figure size 640x480 with 1 Axes>"
      ]
     },
     "metadata": {},
     "output_type": "display_data"
    }
   ],
   "source": [
    "# get id columns from transactions_df\n",
    "id_cols = ['card1','card2','card3','card4','card5','card6','ProductCD','addr1','addr2','P_emaildomain','R_emaildomain'] \n",
    "# get categorical columns for node features\n",
    "cat_cols = ['M1','M2','M3','M4','M5','M6','M7','M8','M9']   \n",
    "# get features and labels\n",
    "transactions_non_features = ['isFraud','TransactionDT'] + id_cols\n",
    "features_cols = [col for col in transactions_df.columns if col not in transactions_non_features]\n",
    "# create df for transaction node features\n",
    "features_df = pd.get_dummies(transactions_df[features_cols], columns=cat_cols).fillna(0)\n",
    "# take log of transaction amount\n",
    "features_df['TransactionAmt'] = features_df['TransactionAmt'].apply(np.log10)\n",
    "# show new distribution\n",
    "features_df['TransactionAmt'].plot(kind='hist', bins=[0,0.5,1,1.5,2,2.5,3,3.5,4])\n",
    "plt.title('Distribution of transaction amounts')\n",
    "plt.xlabel('Log of transaction amount')\n",
    "plt.show()\n",
    "# create a df for the labels\n",
    "labels_df = transactions_df[['TransactionID','isFraud']]\n",
    "# create a list of all node types except TransactionID\n",
    "node_types = id_cols + list(identity_df.columns)\n",
    "node_types.remove('TransactionID')\n",
    "# join the dfs to get a table with all ID data\n",
    "full_identity_df = identity_df.merge(transactions_df[id_cols+['TransactionID']], on='TransactionID', how='right')\n",
    "# create a dictionary of df that will determine the edges in the graph\n",
    "edge_dfs = {}\n",
    "for ntype  in node_types:\n",
    "    edge_dfs[ntype] = full_identity_df[['TransactionID', ntype]].dropna() "
   ]
  },
  {
   "cell_type": "code",
   "execution_count": 5,
   "id": "07602282",
   "metadata": {
    "execution": {
     "iopub.execute_input": "2024-06-25T14:15:33.088877Z",
     "iopub.status.busy": "2024-06-25T14:15:33.088429Z",
     "iopub.status.idle": "2024-06-25T14:15:36.914797Z",
     "shell.execute_reply": "2024-06-25T14:15:36.913671Z"
    },
    "papermill": {
     "duration": 3.844198,
     "end_time": "2024-06-25T14:15:36.917596",
     "exception": false,
     "start_time": "2024-06-25T14:15:33.073398",
     "status": "completed"
    },
    "tags": []
   },
   "outputs": [],
   "source": [
    "# initialize the dictionary to store each ID to dgl node index dictionary\n",
    "id_to_node = {}\n",
    "\n",
    "# First get dgl indices for TransactionID/target nodes\n",
    "id_to_node['target'] = dict([(v,k) for k,v in dict(transactions_df['TransactionID']).items()])\n",
    "\n",
    "# Then cycle through the other ID types and add those to the list (dict)\n",
    "for ntype in node_types:\n",
    "    new_nodes_ids = edge_dfs[ntype][ntype].unique()\n",
    "    new_nodes_dgl = np.arange(len(new_nodes_ids)+1)\n",
    "    id_to_node[ntype] = { a:b for a,b in zip(new_nodes_ids, new_nodes_dgl)}"
   ]
  },
  {
   "cell_type": "code",
   "execution_count": 6,
   "id": "f6f6faa4",
   "metadata": {
    "execution": {
     "iopub.execute_input": "2024-06-25T14:15:36.947183Z",
     "iopub.status.busy": "2024-06-25T14:15:36.946373Z",
     "iopub.status.idle": "2024-06-25T14:15:36.953835Z",
     "shell.execute_reply": "2024-06-25T14:15:36.952490Z"
    },
    "papermill": {
     "duration": 0.02462,
     "end_time": "2024-06-25T14:15:36.956241",
     "exception": false,
     "start_time": "2024-06-25T14:15:36.931621",
     "status": "completed"
    },
    "tags": []
   },
   "outputs": [
    {
     "data": {
      "text/plain": [
       "{'discover': 0, 'mastercard': 1, 'visa': 2, 'american express': 3}"
      ]
     },
     "execution_count": 6,
     "metadata": {},
     "output_type": "execute_result"
    }
   ],
   "source": [
    "# for example:\n",
    "id_to_node['card4']"
   ]
  },
  {
   "cell_type": "code",
   "execution_count": 7,
   "id": "f84f5ad6",
   "metadata": {
    "execution": {
     "iopub.execute_input": "2024-06-25T14:15:36.986022Z",
     "iopub.status.busy": "2024-06-25T14:15:36.985563Z",
     "iopub.status.idle": "2024-06-25T14:16:26.272691Z",
     "shell.execute_reply": "2024-06-25T14:16:26.271536Z"
    },
    "papermill": {
     "duration": 49.304983,
     "end_time": "2024-06-25T14:16:26.275608",
     "exception": false,
     "start_time": "2024-06-25T14:15:36.970625",
     "status": "completed"
    },
    "tags": []
   },
   "outputs": [],
   "source": [
    "# instantiate the edge list dictionary\n",
    "edgelists = {}\n",
    "num_nodes_dict = {}\n",
    "\n",
    "for ntype in node_types:\n",
    "    # prepare each edge type triple and its reverse\n",
    "    edge_type = ('target','target<>'+ntype,ntype)\n",
    "    rev_edge_type = (ntype, ntype+'<>target','target')\n",
    "    # get list of initial nodes and destination nodes\n",
    "    source_nodes = edge_dfs[ntype]['TransactionID'].apply(lambda a : id_to_node['target'][a]).to_numpy()\n",
    "    destination_nodes = edge_dfs[ntype][ntype].apply(lambda a : id_to_node[ntype][a]).to_numpy()\n",
    "    # add to dict\n",
    "    edgelists[edge_type] = ( source_nodes, destination_nodes )\n",
    "    edgelists[rev_edge_type] = (destination_nodes, source_nodes)\n",
    "    # get number of nodes of this type\n",
    "    num_nodes_dict[ntype] = len(np.unique(destination_nodes))\n",
    "    \n",
    "# add self-loops for target nodes\n",
    "source_nodes = edge_dfs[ntype]['TransactionID'].apply(lambda a : id_to_node['target'][a]).to_numpy()\n",
    "edgelists[('target','target<>target','target')] = (source_nodes,source_nodes)\n",
    "num_nodes_dict['target'] = num_transactions"
   ]
  },
  {
   "cell_type": "code",
   "execution_count": 8,
   "id": "a6ea722e",
   "metadata": {
    "execution": {
     "iopub.execute_input": "2024-06-25T14:16:26.304884Z",
     "iopub.status.busy": "2024-06-25T14:16:26.304487Z",
     "iopub.status.idle": "2024-06-25T14:16:26.440959Z",
     "shell.execute_reply": "2024-06-25T14:16:26.439831Z"
    },
    "papermill": {
     "duration": 0.154188,
     "end_time": "2024-06-25T14:16:26.443773",
     "exception": false,
     "start_time": "2024-06-25T14:16:26.289585",
     "status": "completed"
    },
    "tags": []
   },
   "outputs": [],
   "source": [
    "# create the graph\n",
    "g = dgl.heterograph(edgelists, num_nodes_dict)"
   ]
  },
  {
   "cell_type": "code",
   "execution_count": 9,
   "id": "64e7476e",
   "metadata": {
    "execution": {
     "iopub.execute_input": "2024-06-25T14:16:26.472925Z",
     "iopub.status.busy": "2024-06-25T14:16:26.472506Z",
     "iopub.status.idle": "2024-06-25T14:16:27.666406Z",
     "shell.execute_reply": "2024-06-25T14:16:27.665143Z"
    },
    "papermill": {
     "duration": 1.211857,
     "end_time": "2024-06-25T14:16:27.669217",
     "exception": false,
     "start_time": "2024-06-25T14:16:26.457360",
     "status": "completed"
    },
    "tags": []
   },
   "outputs": [
    {
     "data": {
      "image/png": "[encoded data removed]",
      "text/plain": [
       "<Figure size 640x480 with 1 Axes>"
      ]
     },
     "metadata": {},
     "output_type": "display_data"
    }
   ],
   "source": [
    "# Visualizing the metagraph (sanity check: it should be star-shaped, with the target node in the center and a node for each id feature)\n",
    "meta = g.metagraph()\n",
    "nx.draw(meta)"
   ]
  },
  {
   "cell_type": "code",
   "execution_count": 10,
   "id": "f84c42f9",
   "metadata": {
    "execution": {
     "iopub.execute_input": "2024-06-25T14:16:27.702612Z",
     "iopub.status.busy": "2024-06-25T14:16:27.701684Z",
     "iopub.status.idle": "2024-06-25T14:16:27.732546Z",
     "shell.execute_reply": "2024-06-25T14:16:27.731483Z"
    },
    "papermill": {
     "duration": 0.05018,
     "end_time": "2024-06-25T14:16:27.735034",
     "exception": false,
     "start_time": "2024-06-25T14:16:27.684854",
     "status": "completed"
    },
    "tags": []
   },
   "outputs": [
    {
     "data": {
      "text/html": [
       "<div>\n",
       "<style scoped>\n",
       "    .dataframe tbody tr th:only-of-type {\n",
       "        vertical-align: middle;\n",
       "    }\n",
       "\n",
       "    .dataframe tbody tr th {\n",
       "        vertical-align: top;\n",
       "    }\n",
       "\n",
       "    .dataframe thead th {\n",
       "        text-align: right;\n",
       "    }\n",
       "</style>\n",
       "<table border=\"1\" class=\"dataframe\">\n",
       "  <thead>\n",
       "    <tr style=\"text-align: right;\">\n",
       "      <th></th>\n",
       "      <th>TransactionID</th>\n",
       "      <th>TransactionAmt</th>\n",
       "      <th>dist1</th>\n",
       "      <th>dist2</th>\n",
       "      <th>C1</th>\n",
       "      <th>C2</th>\n",
       "      <th>C3</th>\n",
       "      <th>C4</th>\n",
       "      <th>C5</th>\n",
       "      <th>C6</th>\n",
       "      <th>...</th>\n",
       "      <th>M5_F</th>\n",
       "      <th>M5_T</th>\n",
       "      <th>M6_F</th>\n",
       "      <th>M6_T</th>\n",
       "      <th>M7_F</th>\n",
       "      <th>M7_T</th>\n",
       "      <th>M8_F</th>\n",
       "      <th>M8_T</th>\n",
       "      <th>M9_F</th>\n",
       "      <th>M9_T</th>\n",
       "    </tr>\n",
       "  </thead>\n",
       "  <tbody>\n",
       "    <tr>\n",
       "      <th>0</th>\n",
       "      <td>2987000</td>\n",
       "      <td>1.835691</td>\n",
       "      <td>19.0</td>\n",
       "      <td>0.0</td>\n",
       "      <td>1.0</td>\n",
       "      <td>1.0</td>\n",
       "      <td>0.0</td>\n",
       "      <td>0.0</td>\n",
       "      <td>0.0</td>\n",
       "      <td>1.0</td>\n",
       "      <td>...</td>\n",
       "      <td>True</td>\n",
       "      <td>False</td>\n",
       "      <td>False</td>\n",
       "      <td>True</td>\n",
       "      <td>False</td>\n",
       "      <td>False</td>\n",
       "      <td>False</td>\n",
       "      <td>False</td>\n",
       "      <td>False</td>\n",
       "      <td>False</td>\n",
       "    </tr>\n",
       "    <tr>\n",
       "      <th>1</th>\n",
       "      <td>2987001</td>\n",
       "      <td>1.462398</td>\n",
       "      <td>0.0</td>\n",
       "      <td>0.0</td>\n",
       "      <td>1.0</td>\n",
       "      <td>1.0</td>\n",
       "      <td>0.0</td>\n",
       "      <td>0.0</td>\n",
       "      <td>0.0</td>\n",
       "      <td>1.0</td>\n",
       "      <td>...</td>\n",
       "      <td>False</td>\n",
       "      <td>True</td>\n",
       "      <td>False</td>\n",
       "      <td>True</td>\n",
       "      <td>False</td>\n",
       "      <td>False</td>\n",
       "      <td>False</td>\n",
       "      <td>False</td>\n",
       "      <td>False</td>\n",
       "      <td>False</td>\n",
       "    </tr>\n",
       "    <tr>\n",
       "      <th>2</th>\n",
       "      <td>2987002</td>\n",
       "      <td>1.770852</td>\n",
       "      <td>287.0</td>\n",
       "      <td>0.0</td>\n",
       "      <td>1.0</td>\n",
       "      <td>1.0</td>\n",
       "      <td>0.0</td>\n",
       "      <td>0.0</td>\n",
       "      <td>0.0</td>\n",
       "      <td>1.0</td>\n",
       "      <td>...</td>\n",
       "      <td>True</td>\n",
       "      <td>False</td>\n",
       "      <td>True</td>\n",
       "      <td>False</td>\n",
       "      <td>True</td>\n",
       "      <td>False</td>\n",
       "      <td>True</td>\n",
       "      <td>False</td>\n",
       "      <td>True</td>\n",
       "      <td>False</td>\n",
       "    </tr>\n",
       "    <tr>\n",
       "      <th>3</th>\n",
       "      <td>2987003</td>\n",
       "      <td>1.698970</td>\n",
       "      <td>0.0</td>\n",
       "      <td>0.0</td>\n",
       "      <td>2.0</td>\n",
       "      <td>5.0</td>\n",
       "      <td>0.0</td>\n",
       "      <td>0.0</td>\n",
       "      <td>0.0</td>\n",
       "      <td>4.0</td>\n",
       "      <td>...</td>\n",
       "      <td>False</td>\n",
       "      <td>True</td>\n",
       "      <td>True</td>\n",
       "      <td>False</td>\n",
       "      <td>False</td>\n",
       "      <td>False</td>\n",
       "      <td>False</td>\n",
       "      <td>False</td>\n",
       "      <td>False</td>\n",
       "      <td>False</td>\n",
       "    </tr>\n",
       "    <tr>\n",
       "      <th>4</th>\n",
       "      <td>2987004</td>\n",
       "      <td>1.698970</td>\n",
       "      <td>0.0</td>\n",
       "      <td>0.0</td>\n",
       "      <td>1.0</td>\n",
       "      <td>1.0</td>\n",
       "      <td>0.0</td>\n",
       "      <td>0.0</td>\n",
       "      <td>0.0</td>\n",
       "      <td>1.0</td>\n",
       "      <td>...</td>\n",
       "      <td>False</td>\n",
       "      <td>False</td>\n",
       "      <td>False</td>\n",
       "      <td>False</td>\n",
       "      <td>False</td>\n",
       "      <td>False</td>\n",
       "      <td>False</td>\n",
       "      <td>False</td>\n",
       "      <td>False</td>\n",
       "      <td>False</td>\n",
       "    </tr>\n",
       "  </tbody>\n",
       "</table>\n",
       "<p>5 rows × 391 columns</p>\n",
       "</div>"
      ],
      "text/plain": [
       "   TransactionID  TransactionAmt  dist1  dist2   C1   C2   C3   C4   C5   C6  \\\n",
       "0        2987000        1.835691   19.0    0.0  1.0  1.0  0.0  0.0  0.0  1.0   \n",
       "1        2987001        1.462398    0.0    0.0  1.0  1.0  0.0  0.0  0.0  1.0   \n",
       "2        2987002        1.770852  287.0    0.0  1.0  1.0  0.0  0.0  0.0  1.0   \n",
       "3        2987003        1.698970    0.0    0.0  2.0  5.0  0.0  0.0  0.0  4.0   \n",
       "4        2987004        1.698970    0.0    0.0  1.0  1.0  0.0  0.0  0.0  1.0   \n",
       "\n",
       "   ...   M5_F   M5_T   M6_F   M6_T   M7_F   M7_T   M8_F   M8_T   M9_F   M9_T  \n",
       "0  ...   True  False  False   True  False  False  False  False  False  False  \n",
       "1  ...  False   True  False   True  False  False  False  False  False  False  \n",
       "2  ...   True  False   True  False   True  False   True  False   True  False  \n",
       "3  ...  False   True   True  False  False  False  False  False  False  False  \n",
       "4  ...  False  False  False  False  False  False  False  False  False  False  \n",
       "\n",
       "[5 rows x 391 columns]"
      ]
     },
     "execution_count": 10,
     "metadata": {},
     "output_type": "execute_result"
    }
   ],
   "source": [
    "features_df.head()"
   ]
  },
  {
   "cell_type": "code",
   "execution_count": 11,
   "id": "aa66afd7",
   "metadata": {
    "execution": {
     "iopub.execute_input": "2024-06-25T14:16:27.768926Z",
     "iopub.status.busy": "2024-06-25T14:16:27.768459Z",
     "iopub.status.idle": "2024-06-25T14:16:28.666516Z",
     "shell.execute_reply": "2024-06-25T14:16:28.665304Z"
    },
    "papermill": {
     "duration": 0.918277,
     "end_time": "2024-06-25T14:16:28.669374",
     "exception": false,
     "start_time": "2024-06-25T14:16:27.751097",
     "status": "completed"
    },
    "tags": []
   },
   "outputs": [],
   "source": [
    "features = features_df.drop('TransactionID', axis=1)\n",
    "feature_array = features.to_numpy(dtype=np.float32)\n",
    "# Convert numpy array to PyTorch tensor\n",
    "feature_tensor = torch.from_numpy(feature_array)"
   ]
  },
  {
   "cell_type": "code",
   "execution_count": 12,
   "id": "7bac6177",
   "metadata": {
    "execution": {
     "iopub.execute_input": "2024-06-25T14:16:28.704173Z",
     "iopub.status.busy": "2024-06-25T14:16:28.703316Z",
     "iopub.status.idle": "2024-06-25T14:16:28.709129Z",
     "shell.execute_reply": "2024-06-25T14:16:28.707849Z"
    },
    "papermill": {
     "duration": 0.02542,
     "end_time": "2024-06-25T14:16:28.711407",
     "exception": false,
     "start_time": "2024-06-25T14:16:28.685987",
     "status": "completed"
    },
    "tags": []
   },
   "outputs": [],
   "source": [
    "\n",
    "# add feature data to graph\n",
    "g.nodes['target'].data['features'] = feature_tensor"
   ]
  },
  {
   "cell_type": "code",
   "execution_count": null,
   "id": "9e390efc",
   "metadata": {
    "papermill": {
     "duration": 0.015641,
     "end_time": "2024-06-25T14:16:28.742922",
     "exception": false,
     "start_time": "2024-06-25T14:16:28.727281",
     "status": "completed"
    },
    "tags": []
   },
   "outputs": [],
   "source": []
  },
  {
   "cell_type": "code",
   "execution_count": 13,
   "id": "eaf217a1",
   "metadata": {
    "execution": {
     "iopub.execute_input": "2024-06-25T14:16:28.776575Z",
     "iopub.status.busy": "2024-06-25T14:16:28.776142Z",
     "iopub.status.idle": "2024-06-25T14:16:28.818941Z",
     "shell.execute_reply": "2024-06-25T14:16:28.817695Z"
    },
    "papermill": {
     "duration": 0.062619,
     "end_time": "2024-06-25T14:16:28.821475",
     "exception": false,
     "start_time": "2024-06-25T14:16:28.758856",
     "status": "completed"
    },
    "tags": []
   },
   "outputs": [
    {
     "name": "stdout",
     "output_type": "stream",
     "text": [
      "Feature vectors match. Check is good!\n"
     ]
    }
   ],
   "source": [
    "# sanity check\n",
    "# for random target node, compare expected features with the feature of the node\n",
    "trial = 1515\n",
    "\n",
    "orig_feat_np = features_df.iloc[trial, 1:].to_numpy(dtype=np.float32)\n",
    "orig_feat = torch.from_numpy(orig_feat_np)\n",
    "\n",
    "# data from the graph\n",
    "graph_feat = g.ndata['features']['target'][trial]\n",
    "\n",
    "assert max(orig_feat - graph_feat) == 0\n",
    "print('Feature vectors match. Check is good!')"
   ]
  },
  {
   "cell_type": "code",
   "execution_count": 14,
   "id": "930553c7",
   "metadata": {
    "execution": {
     "iopub.execute_input": "2024-06-25T14:16:28.857631Z",
     "iopub.status.busy": "2024-06-25T14:16:28.857203Z",
     "iopub.status.idle": "2024-06-25T14:16:29.105251Z",
     "shell.execute_reply": "2024-06-25T14:16:29.103982Z"
    },
    "papermill": {
     "duration": 0.270883,
     "end_time": "2024-06-25T14:16:29.108474",
     "exception": false,
     "start_time": "2024-06-25T14:16:28.837591",
     "status": "completed"
    },
    "tags": []
   },
   "outputs": [],
   "source": [
    "train_mask = [ id_to_node['target'][x] for x in train_ids]\n",
    "val_mask = [ id_to_node['target'][x] for x in val_ids]"
   ]
  },
  {
   "cell_type": "code",
   "execution_count": 15,
   "id": "8cf8358d",
   "metadata": {
    "execution": {
     "iopub.execute_input": "2024-06-25T14:16:29.142164Z",
     "iopub.status.busy": "2024-06-25T14:16:29.141737Z",
     "iopub.status.idle": "2024-06-25T14:16:29.151360Z",
     "shell.execute_reply": "2024-06-25T14:16:29.150123Z"
    },
    "papermill": {
     "duration": 0.02953,
     "end_time": "2024-06-25T14:16:29.153974",
     "exception": false,
     "start_time": "2024-06-25T14:16:29.124444",
     "status": "completed"
    },
    "tags": []
   },
   "outputs": [],
   "source": [
    "labels = torch.tensor(labels_df['isFraud'].to_numpy()).float()"
   ]
  },
  {
   "cell_type": "code",
   "execution_count": 16,
   "id": "4558abbd",
   "metadata": {
    "execution": {
     "iopub.execute_input": "2024-06-25T14:16:29.190279Z",
     "iopub.status.busy": "2024-06-25T14:16:29.189832Z",
     "iopub.status.idle": "2024-06-25T14:16:30.398841Z",
     "shell.execute_reply": "2024-06-25T14:16:30.397816Z"
    },
    "papermill": {
     "duration": 1.229168,
     "end_time": "2024-06-25T14:16:30.401622",
     "exception": false,
     "start_time": "2024-06-25T14:16:29.172454",
     "status": "completed"
    },
    "tags": []
   },
   "outputs": [],
   "source": [
    "mean = torch.mean(g.ndata['features']['target'], axis=0)\n",
    "std = torch.sqrt(torch.sum((g.ndata['features']['target'] - mean)**2, axis=0)/g.ndata['features']['target'].shape[0])"
   ]
  },
  {
   "cell_type": "code",
   "execution_count": 17,
   "id": "9dddd00b",
   "metadata": {
    "execution": {
     "iopub.execute_input": "2024-06-25T14:16:30.435274Z",
     "iopub.status.busy": "2024-06-25T14:16:30.434859Z",
     "iopub.status.idle": "2024-06-25T14:16:31.278288Z",
     "shell.execute_reply": "2024-06-25T14:16:31.277218Z"
    },
    "papermill": {
     "duration": 0.863538,
     "end_time": "2024-06-25T14:16:31.281073",
     "exception": false,
     "start_time": "2024-06-25T14:16:30.417535",
     "status": "completed"
    },
    "tags": []
   },
   "outputs": [],
   "source": [
    "g.ndata['features']['target'] = (g.ndata['features']['target'] - mean)/std"
   ]
  },
  {
   "cell_type": "code",
   "execution_count": 18,
   "id": "54f8397a",
   "metadata": {
    "execution": {
     "iopub.execute_input": "2024-06-25T14:16:31.316528Z",
     "iopub.status.busy": "2024-06-25T14:16:31.316108Z",
     "iopub.status.idle": "2024-06-25T14:16:31.322598Z",
     "shell.execute_reply": "2024-06-25T14:16:31.321496Z"
    },
    "papermill": {
     "duration": 0.026762,
     "end_time": "2024-06-25T14:16:31.324904",
     "exception": false,
     "start_time": "2024-06-25T14:16:31.298142",
     "status": "completed"
    },
    "tags": []
   },
   "outputs": [],
   "source": [
    "# Conv layers\n",
    "INPUT_DIM = 8\n",
    "HIDDEN_DIM = 8\n",
    "TARGET_OUT_DIM = 8\n",
    "CONV_LAYERS = 2 # should be at least 2; only have 3 'distinct' layers, weights for the middle ones are shared with all layers except first and last.\n",
    "# pre/post processing of target\n",
    "TARGET_PREPROCESSING_HIDDEN_DIM = 32\n",
    "TARGET_PREPROCESSING_NO_LAYERS = 3\n",
    "TARGET_POSTPROCESSING_HIDDEN_DIM = 8\n",
    "TARGET_POSTPROCESSING_NO_LAYERS = 2\n",
    "# training\n",
    "LEARNING_RATE = 0.001\n",
    "LOSS_MULTIPLIER = 15\n",
    "NUM_EPOCHS = 70"
   ]
  },
  {
   "cell_type": "code",
   "execution_count": 19,
   "id": "f151a4c0",
   "metadata": {
    "execution": {
     "iopub.execute_input": "2024-06-25T14:16:31.359148Z",
     "iopub.status.busy": "2024-06-25T14:16:31.358766Z",
     "iopub.status.idle": "2024-06-25T14:16:31.387083Z",
     "shell.execute_reply": "2024-06-25T14:16:31.386047Z"
    },
    "papermill": {
     "duration": 0.048623,
     "end_time": "2024-06-25T14:16:31.389489",
     "exception": false,
     "start_time": "2024-06-25T14:16:31.340866",
     "status": "completed"
    },
    "tags": []
   },
   "outputs": [],
   "source": [
    "import torch.nn as nn\n",
    "import torch.nn.functional as F\n",
    "from dgl.nn.pytorch import HeteroGraphConv, HeteroEmbedding, GraphConv\n",
    "from torch.nn import Linear\n",
    "\n",
    "# Assuming 'g' and 'node_types' are defined elsewhere in your code\n",
    "\n",
    "# get dimension of target features\n",
    "target_feature_dim = g.ndata['features']['target'].shape[1]\n",
    "\n",
    "# create linear embeddings for the non-target nodes into R^IN_DIM space\n",
    "num_embeddings_dict = {src: g.num_nodes(src) for (src, etype, dst) in g.canonical_etypes if (dst == 'target' and src != 'target')}\n",
    "\n",
    "# define a NN for pre/postprocessing the target data\n",
    "class ff_block(nn.Module):\n",
    "    def __init__(self, in_dim, hidden_dim, out_dim, n_layers):\n",
    "        super().__init__()\n",
    "        self.input_layer = Linear(in_dim, hidden_dim)\n",
    "        self.hidden_layers = nn.ModuleList([Linear(hidden_dim, hidden_dim) for _ in range(n_layers - 1)])\n",
    "        self.output_layer = Linear(hidden_dim, out_dim)\n",
    "        \n",
    "    def forward(self, in_feats):\n",
    "        h = self.input_layer(in_feats)\n",
    "        h = F.relu(h)\n",
    "        for layer in self.hidden_layers:\n",
    "            h = layer(h)\n",
    "            h = F.relu(h)\n",
    "        h = self.output_layer(h)\n",
    "        return h\n",
    "\n",
    "# define the model class\n",
    "class RGCN(nn.Module):\n",
    "    def __init__(self, target_feature_dim, in_dim, hidden_dim, conv_out_dim, num_conv_layers, num_embeddings, target_pre_h_dim, target_pre_layers, target_post_h_dim, target_post_layers):\n",
    "        super().__init__()\n",
    "        \n",
    "        entry_module_dict = {etype: GraphConv(in_feats=in_dim, out_feats=hidden_dim) for etype in g.etypes}\n",
    "        hidden_model_dict = {etype: GraphConv(in_feats=hidden_dim, out_feats=hidden_dim) for etype in g.etypes}\n",
    "        \n",
    "        final_model_dict1 = {etype: GraphConv(in_feats=hidden_dim, out_feats=conv_out_dim) for src, etype, dst in g.canonical_etypes if dst == 'target'}\n",
    "        final_model_dict2 = {etype: GraphConv(in_feats=hidden_dim, out_feats=1) for src, etype, dst in g.canonical_etypes if dst != 'target'}\n",
    "        final_model_dict = {**final_model_dict1, **final_model_dict2}\n",
    "        \n",
    "        self.num_conv_layers = num_conv_layers\n",
    "        \n",
    "        self.embed_layer = HeteroEmbedding(num_embeddings, in_dim)\n",
    "        \n",
    "        self.target_preprocessing = ff_block(target_feature_dim, target_pre_h_dim, in_dim, target_pre_layers)\n",
    "        \n",
    "        self.conv1 = HeteroGraphConv(entry_module_dict, aggregate='sum')\n",
    "        self.conv2 = HeteroGraphConv(hidden_model_dict, aggregate='sum')\n",
    "        self.conv3 = HeteroGraphConv(final_model_dict, aggregate='sum')\n",
    "        \n",
    "        self.target_postprocessing = ff_block(conv_out_dim, target_post_h_dim, 1, target_post_layers)\n",
    "        \n",
    "    def forward(self, graph, input_features):\n",
    "        embeds = self.embed_layer({ntype: graph.nodes(ntype) for ntype in node_types})\n",
    "        input_features = input_features.to(dtype=torch.float32)\n",
    "        target_features = self.target_preprocessing(input_features)\n",
    "        embeds['target'] = target_features\n",
    "        \n",
    "        h = self.conv1(graph, embeds)\n",
    "        h = {k: F.relu(v) for k, v in h.items()}\n",
    "        \n",
    "        for i in range(2, self.num_conv_layers):\n",
    "            h = self.conv2(graph, h)\n",
    "            h = {k: F.relu(v) for k, v in h.items()}\n",
    "        \n",
    "        h = self.conv3(graph, h)\n",
    "        h['target'] = self.target_postprocessing(h['target'])\n",
    "        \n",
    "        return h\n"
   ]
  },
  {
   "cell_type": "code",
   "execution_count": 20,
   "id": "7ff427ec",
   "metadata": {
    "execution": {
     "iopub.execute_input": "2024-06-25T14:16:31.423333Z",
     "iopub.status.busy": "2024-06-25T14:16:31.422894Z",
     "iopub.status.idle": "2024-06-25T14:16:31.492283Z",
     "shell.execute_reply": "2024-06-25T14:16:31.490759Z"
    },
    "papermill": {
     "duration": 0.089578,
     "end_time": "2024-06-25T14:16:31.495046",
     "exception": false,
     "start_time": "2024-06-25T14:16:31.405468",
     "status": "completed"
    },
    "tags": []
   },
   "outputs": [
    {
     "name": "stdout",
     "output_type": "stream",
     "text": [
      "Number of parameters in the model: \n",
      "                                  1120516\n"
     ]
    }
   ],
   "source": [
    "# create the model\n",
    "model = RGCN(\n",
    "    target_feature_dim = target_feature_dim,\n",
    "    in_dim = INPUT_DIM, \n",
    "    hidden_dim = HIDDEN_DIM, \n",
    "    conv_out_dim = TARGET_OUT_DIM,\n",
    "    num_conv_layers = CONV_LAYERS,\n",
    "    num_embeddings = num_embeddings_dict, \n",
    "    target_pre_h_dim = TARGET_PREPROCESSING_HIDDEN_DIM, \n",
    "    target_pre_layers = TARGET_PREPROCESSING_NO_LAYERS,\n",
    "    target_post_h_dim = TARGET_POSTPROCESSING_HIDDEN_DIM,\n",
    "    target_post_layers = TARGET_POSTPROCESSING_NO_LAYERS\n",
    ")\n",
    "print('Number of parameters in the model: ')\n",
    "print(' '*33,sum(param.numel() for param in model.parameters()))"
   ]
  },
  {
   "cell_type": "code",
   "execution_count": 21,
   "id": "7ba063cc",
   "metadata": {
    "execution": {
     "iopub.execute_input": "2024-06-25T14:16:31.529004Z",
     "iopub.status.busy": "2024-06-25T14:16:31.528530Z",
     "iopub.status.idle": "2024-06-25T14:16:33.203095Z",
     "shell.execute_reply": "2024-06-25T14:16:33.201800Z"
    },
    "papermill": {
     "duration": 1.695262,
     "end_time": "2024-06-25T14:16:33.206429",
     "exception": false,
     "start_time": "2024-06-25T14:16:31.511167",
     "status": "completed"
    },
    "tags": []
   },
   "outputs": [],
   "source": [
    "# prepare weight vector for loss fn\n",
    "weight_vector = (torch.ones(labels[train_mask].shape)+labels[train_mask]*LOSS_MULTIPLIER).reshape((labels[train_mask].shape[0],1))\n",
    "val_weight_vector = (torch.ones(labels[val_mask].shape)+labels[val_mask]*LOSS_MULTIPLIER).reshape((labels[val_mask].shape[0],1))\n",
    "\n",
    "# Set optimizer and loss function\n",
    "optimizer = torch.optim.Adam(model.parameters(), lr=LEARNING_RATE)\n",
    "loss_fn = torch.nn.BCELoss(weight_vector)\n",
    "val_loss_fn = torch.nn.BCELoss(val_weight_vector)"
   ]
  },
  {
   "cell_type": "markdown",
   "id": "285af891",
   "metadata": {
    "papermill": {
     "duration": 0.015992,
     "end_time": "2024-06-25T14:16:33.239130",
     "exception": false,
     "start_time": "2024-06-25T14:16:33.223138",
     "status": "completed"
    },
    "tags": []
   },
   "source": []
  },
  {
   "cell_type": "code",
   "execution_count": 22,
   "id": "e43ae8c0",
   "metadata": {
    "execution": {
     "iopub.execute_input": "2024-06-25T14:16:33.273695Z",
     "iopub.status.busy": "2024-06-25T14:16:33.272901Z",
     "iopub.status.idle": "2024-06-25T14:16:33.283741Z",
     "shell.execute_reply": "2024-06-25T14:16:33.282548Z"
    },
    "papermill": {
     "duration": 0.030887,
     "end_time": "2024-06-25T14:16:33.286212",
     "exception": false,
     "start_time": "2024-06-25T14:16:33.255325",
     "status": "completed"
    },
    "tags": []
   },
   "outputs": [],
   "source": [
    "def train_one_epoch(epoch_no, model, g, features, labels, train_mask, val_mask, threshold, return_probs=False):\n",
    "    t0 = time()\n",
    "    # Forward pass\n",
    "    logits_dict = model(g, features)\n",
    "    logits = logits_dict['target']\n",
    "    del logits_dict\n",
    "    probs = torch.sigmoid(logits)\n",
    "    preds = (probs > threshold).float()\n",
    "       \n",
    "    labels = labels.reshape_as(preds)\n",
    "    \n",
    "    # compute training and validation loss\n",
    "    loss = loss_fn(probs[train_mask], labels[train_mask])\n",
    "    with torch.no_grad():\n",
    "        val_loss = val_loss_fn(probs[val_mask], labels[val_mask])\n",
    "        # compute accuracies\n",
    "    train_acc = (preds[train_mask] == labels[train_mask]).float().mean()\n",
    "    val_acc = (preds[val_mask] == labels[val_mask]).float().mean()\n",
    "    \n",
    "    # backprop\n",
    "    optimizer.zero_grad()\n",
    "    loss.backward()\n",
    "    optimizer.step()\n",
    "    \n",
    "    if return_probs:\n",
    "        return loss, val_loss, train_acc, val_acc, time()-t0, probs, preds\n",
    "    else:\n",
    "        return loss, val_loss, train_acc, val_acc, time()-t0"
   ]
  },
  {
   "cell_type": "code",
   "execution_count": 23,
   "id": "333253af",
   "metadata": {
    "execution": {
     "iopub.execute_input": "2024-06-25T14:16:33.320366Z",
     "iopub.status.busy": "2024-06-25T14:16:33.319943Z",
     "iopub.status.idle": "2024-06-25T14:16:33.327416Z",
     "shell.execute_reply": "2024-06-25T14:16:33.326311Z"
    },
    "papermill": {
     "duration": 0.02735,
     "end_time": "2024-06-25T14:16:33.329801",
     "exception": false,
     "start_time": "2024-06-25T14:16:33.302451",
     "status": "completed"
    },
    "tags": []
   },
   "outputs": [],
   "source": [
    "# function for visualizing loss history\n",
    "def loss_history_plot(loss_history, val_loss_history=None, small=False):\n",
    "    if small:\n",
    "        size = (5,2)\n",
    "    else:\n",
    "        size = (7,4)\n",
    "    fig, ax =plt.subplots(1,1,figsize=size)\n",
    "    ax.plot(loss_history, label='Train')\n",
    "    if val_loss_history:\n",
    "        ax.plot(val_loss_history, label='Val')\n",
    "        ax.legend()\n",
    "    plt.show()"
   ]
  },
  {
   "cell_type": "code",
   "execution_count": 24,
   "id": "4f81acaa",
   "metadata": {
    "execution": {
     "iopub.execute_input": "2024-06-25T14:16:33.364013Z",
     "iopub.status.busy": "2024-06-25T14:16:33.363149Z",
     "iopub.status.idle": "2024-06-25T14:16:33.378230Z",
     "shell.execute_reply": "2024-06-25T14:16:33.377045Z"
    },
    "papermill": {
     "duration": 0.035071,
     "end_time": "2024-06-25T14:16:33.380825",
     "exception": false,
     "start_time": "2024-06-25T14:16:33.345754",
     "status": "completed"
    },
    "tags": []
   },
   "outputs": [],
   "source": [
    "def train(model, g, num_epochs, labels, train_mask, val_mask, threshold):\n",
    "    best_val_acc = 0\n",
    "    epoch_times = []\n",
    "    history = {}\n",
    "    history['loss'] = []\n",
    "    history['val_loss'] = []\n",
    "    history['val_acc'] = []\n",
    "    \n",
    "    features = g.nodes['target'].data['features']\n",
    "    \n",
    "    for epoch in range(num_epochs):\n",
    "        \n",
    "        if epoch < num_epochs-1:\n",
    "            loss, val_loss, train_acc, val_acc, epoch_time = train_one_epoch(epoch, model, g, features, labels, train_mask, val_mask, threshold)\n",
    "        else:\n",
    "            loss, val_loss, train_acc, val_acc, epoch_time, final_probs, final_preds = train_one_epoch(epoch, model, g, features, labels, train_mask, val_mask, threshold, return_probs=True)\n",
    "            \n",
    "        history['val_loss'].append(val_loss)\n",
    "        history['val_acc'].append(val_acc)\n",
    "        history['loss'].append(loss.detach().numpy())\n",
    "        epoch_times.append(epoch_time)\n",
    "        \n",
    "        if best_val_acc < val_acc:\n",
    "            best_val_acc = val_acc\n",
    "            \n",
    "        if epoch % 10 == 10-1:\n",
    "            loss_rate_of_change = (history['loss'][-1]-history['loss'][-5])/5\n",
    "            print(f\"Epoch {epoch+1} loss: {loss:.3f}, (rate of change: {loss_rate_of_change:.4f}), val accuracy: {val_acc:.3f} (best: {best_val_acc:.3f})\\n\\\n",
    "            -- Average time per epoch: {np.mean(epoch_times):.1f}sec (last 5: {np.mean(epoch_times[-5:]):.1f}sec).\\\n",
    "            Estimated time to end: {(num_epochs-epoch-1)*np.mean(epoch_times[-5:])/60:.0f} mins\")\n",
    "            \n",
    "        if epoch % 25 == 25-1:\n",
    "            loss_history_plot(history['loss'][-25:], history['val_loss'][-25:], small=True)\n",
    "            loss_history_plot(history['val_acc'][-25:], small=True)\n",
    "            \n",
    "    print('-'*60)\n",
    "    print(f\"Training complete. \\\n",
    "    Final loss: {loss:.3f}, \\\n",
    "    final val accuracy: {val_acc:.3f}, (best: {best_val_acc:.3f}).\")\n",
    "    \n",
    "    return final_probs, final_preds, history"
   ]
  },
  {
   "cell_type": "code",
   "execution_count": 25,
   "id": "a49c74ff",
   "metadata": {
    "execution": {
     "iopub.execute_input": "2024-06-25T14:16:33.415286Z",
     "iopub.status.busy": "2024-06-25T14:16:33.414869Z",
     "iopub.status.idle": "2024-06-25T14:24:24.742970Z",
     "shell.execute_reply": "2024-06-25T14:24:24.741722Z"
    },
    "papermill": {
     "duration": 471.365882,
     "end_time": "2024-06-25T14:24:24.763280",
     "exception": false,
     "start_time": "2024-06-25T14:16:33.397398",
     "status": "completed"
    },
    "tags": []
   },
   "outputs": [
    {
     "name": "stdout",
     "output_type": "stream",
     "text": [
      "Epoch 10 loss: 1.959, (rate of change: -0.2658), val accuracy: 0.894 (best: 0.946)\n",
      "            -- Average time per epoch: 7.9sec (last 5: 6.5sec).            Estimated time to end: 6 mins\n",
      "Epoch 20 loss: 1.119, (rate of change: -0.0261), val accuracy: 0.902 (best: 0.946)\n",
      "            -- Average time per epoch: 7.2sec (last 5: 6.5sec).            Estimated time to end: 5 mins\n"
     ]
    },
    {
     "data": {
      "image/png": "[encoded data removed]",
      "text/plain": [
       "<Figure size 500x200 with 1 Axes>"
      ]
     },
     "metadata": {},
     "output_type": "display_data"
    },
    {
     "data": {
      "image/png": "[encoded data removed]",
      "text/plain": [
       "<Figure size 500x200 with 1 Axes>"
      ]
     },
     "metadata": {},
     "output_type": "display_data"
    },
    {
     "name": "stdout",
     "output_type": "stream",
     "text": [
      "Epoch 30 loss: 0.966, (rate of change: -0.0041), val accuracy: 0.864 (best: 0.946)\n",
      "            -- Average time per epoch: 7.0sec (last 5: 6.5sec).            Estimated time to end: 4 mins\n",
      "Epoch 40 loss: 0.913, (rate of change: -0.0028), val accuracy: 0.901 (best: 0.946)\n",
      "            -- Average time per epoch: 6.9sec (last 5: 6.5sec).            Estimated time to end: 3 mins\n",
      "Epoch 50 loss: 0.894, (rate of change: -0.0011), val accuracy: 0.898 (best: 0.946)\n",
      "            -- Average time per epoch: 6.8sec (last 5: 6.6sec).            Estimated time to end: 2 mins\n"
     ]
    },
    {
     "data": {
      "image/png": "[encoded data removed]",
      "text/plain": [
       "<Figure size 500x200 with 1 Axes>"
      ]
     },
     "metadata": {},
     "output_type": "display_data"
    },
    {
     "data": {
      "image/png": "[encoded data removed]",
      "text/plain": [
       "<Figure size 500x200 with 1 Axes>"
      ]
     },
     "metadata": {},
     "output_type": "display_data"
    },
    {
     "name": "stdout",
     "output_type": "stream",
     "text": [
      "Epoch 60 loss: 0.881, (rate of change: -0.0009), val accuracy: 0.888 (best: 0.946)\n",
      "            -- Average time per epoch: 6.8sec (last 5: 6.5sec).            Estimated time to end: 1 mins\n",
      "Epoch 70 loss: 0.870, (rate of change: -0.0007), val accuracy: 0.875 (best: 0.946)\n",
      "            -- Average time per epoch: 6.7sec (last 5: 6.5sec).            Estimated time to end: 0 mins\n",
      "------------------------------------------------------------\n",
      "Training complete.     Final loss: 0.870,     final val accuracy: 0.875, (best: 0.946).\n"
     ]
    }
   ],
   "source": [
    "QUICK_TEST = False\n",
    "\n",
    "if QUICK_TEST:\n",
    "    n_ep = 2\n",
    "else:\n",
    "    n_ep = NUM_EPOCHS\n",
    "\n",
    "probs, preds, history = train(model, g, n_ep, labels, train_mask, val_mask, 0.5)"
   ]
  },
  {
   "cell_type": "code",
   "execution_count": 26,
   "id": "2fcef978",
   "metadata": {
    "execution": {
     "iopub.execute_input": "2024-06-25T14:24:24.803469Z",
     "iopub.status.busy": "2024-06-25T14:24:24.802703Z",
     "iopub.status.idle": "2024-06-25T14:24:25.159764Z",
     "shell.execute_reply": "2024-06-25T14:24:25.158513Z"
    },
    "papermill": {
     "duration": 0.380302,
     "end_time": "2024-06-25T14:24:25.162446",
     "exception": false,
     "start_time": "2024-06-25T14:24:24.782144",
     "status": "completed"
    },
    "tags": []
   },
   "outputs": [
    {
     "name": "stdout",
     "output_type": "stream",
     "text": [
      "Evaluation of validation set results:\n",
      " --------------------------------------------------\n",
      "Proportion of transactions predicted as fraud: 12.12 %.\n",
      "[[126912   2834]\n",
      " [ 15623   2266]]\n",
      "False positive rate: 87.3 %.\n",
      "False negative rate: 2.18 %.\n",
      "True negative rate: 12.67 % (specificity).\n",
      "True positive rate: 97.82 % (sensitivity).\n"
     ]
    }
   ],
   "source": [
    "print('Evaluation of validation set results:\\n','-'*50)\n",
    "\n",
    "print(f\"Proportion of transactions predicted as fraud: {torch.mean(preds[val_mask])*100:.2f} %.\")\n",
    "cm = confusion_matrix(preds[val_mask], labels[val_mask])\n",
    "print(cm)\n",
    "fp_rate = cm[1,0]/(cm[1,0]+cm[1,1])\n",
    "print(f\"False positive rate: {fp_rate*100:.1f} %.\")\n",
    "fn_rate = cm[0,1]/(cm[0,1]+cm[0,0])\n",
    "print(f\"False negative rate: {fn_rate*100:.2f} %.\")\n",
    "tn_rate = 1-fp_rate\n",
    "print(f\"True negative rate: {tn_rate*100:.2f} % (specificity).\")\n",
    "tp_rate = 1- fn_rate\n",
    "print(f\"True positive rate: {tp_rate*100:.2f} % (sensitivity).\")"
   ]
  },
  {
   "cell_type": "code",
   "execution_count": 27,
   "id": "a3a32716",
   "metadata": {
    "execution": {
     "iopub.execute_input": "2024-06-25T14:24:25.201661Z",
     "iopub.status.busy": "2024-06-25T14:24:25.201228Z",
     "iopub.status.idle": "2024-06-25T14:24:25.208444Z",
     "shell.execute_reply": "2024-06-25T14:24:25.207322Z"
    },
    "papermill": {
     "duration": 0.031035,
     "end_time": "2024-06-25T14:24:25.212041",
     "exception": false,
     "start_time": "2024-06-25T14:24:25.181006",
     "status": "completed"
    },
    "tags": []
   },
   "outputs": [
    {
     "name": "stdout",
     "output_type": "stream",
     "text": [
      "Precision: 52.83 %\n",
      "Recall (Sensitivity): 97.82 %\n",
      "F1 Score: 68.61 %\n"
     ]
    }
   ],
   "source": [
    "# Calculate Precision\n",
    "precision = tp_rate / (tp_rate + fp_rate)\n",
    "\n",
    "# Calculate Recall (Sensitivity)\n",
    "recall = tp_rate / (tp_rate + fn_rate)\n",
    "\n",
    "# Calculate F1 Score\n",
    "f1 = 2 * (precision * recall) / (precision + recall)\n",
    "\n",
    "# Print results\n",
    "print(f\"Precision: {precision*100:.2f} %\")\n",
    "print(f\"Recall (Sensitivity): {recall*100:.2f} %\")\n",
    "print(f\"F1 Score: {f1*100:.2f} %\")"
   ]
  },
  {
   "cell_type": "code",
   "execution_count": null,
   "id": "d489a84e",
   "metadata": {
    "papermill": {
     "duration": 0.01853,
     "end_time": "2024-06-25T14:24:25.249333",
     "exception": false,
     "start_time": "2024-06-25T14:24:25.230803",
     "status": "completed"
    },
    "tags": []
   },
   "outputs": [],
   "source": []
  },
  {
   "cell_type": "code",
   "execution_count": 28,
   "id": "82b77b65",
   "metadata": {
    "execution": {
     "iopub.execute_input": "2024-06-25T14:24:25.288275Z",
     "iopub.status.busy": "2024-06-25T14:24:25.287840Z",
     "iopub.status.idle": "2024-06-25T14:24:25.704743Z",
     "shell.execute_reply": "2024-06-25T14:24:25.703561Z"
    },
    "papermill": {
     "duration": 0.439356,
     "end_time": "2024-06-25T14:24:25.707263",
     "exception": false,
     "start_time": "2024-06-25T14:24:25.267907",
     "status": "completed"
    },
    "tags": []
   },
   "outputs": [
    {
     "data": {
      "image/png": "[encoded data removed]",
      "text/plain": [
       "<Figure size 700x400 with 1 Axes>"
      ]
     },
     "metadata": {},
     "output_type": "display_data"
    },
    {
     "data": {
      "image/png": "[encoded data removed]",
      "text/plain": [
       "<Figure size 700x400 with 1 Axes>"
      ]
     },
     "metadata": {},
     "output_type": "display_data"
    }
   ],
   "source": [
    "loss_history_plot(history['loss'], history['val_loss'])\n",
    "loss_history_plot(history['val_acc'])"
   ]
  },
  {
   "cell_type": "code",
   "execution_count": null,
   "id": "2b876e75",
   "metadata": {
    "papermill": {
     "duration": 0.019164,
     "end_time": "2024-06-25T14:24:25.745770",
     "exception": false,
     "start_time": "2024-06-25T14:24:25.726606",
     "status": "completed"
    },
    "tags": []
   },
   "outputs": [],
   "source": []
  }
 ],
 "metadata": {
  "kaggle": {
   "accelerator": "none",
   "dataSources": [
    {
     "databundleVersionId": 568274,
     "sourceId": 14242,
     "sourceType": "competition"
    }
   ],
   "dockerImageVersionId": 30733,
   "isGpuEnabled": false,
   "isInternetEnabled": true,
   "language": "python",
   "sourceType": "notebook"
  },
  "kernelspec": {
   "display_name": "Python 3",
   "language": "python",
   "name": "python3"
  },
  "language_info": {
   "codemirror_mode": {
    "name": "ipython",
    "version": 3
   },
   "file_extension": ".py",
   "mimetype": "text/x-python",
   "name": "python",
   "nbconvert_exporter": "python",
   "pygments_lexer": "ipython3",
   "version": "3.10.13"
  },
  "papermill": {
   "default_parameters": {},
   "duration": 610.480041,
   "end_time": "2024-06-25T14:24:30.784484",
   "environment_variables": {},
   "exception": null,
   "input_path": "__notebook__.ipynb",
   "output_path": "__notebook__.ipynb",
   "parameters": {},
   "start_time": "2024-06-25T14:14:20.304443",
   "version": "2.5.0"
  }
 },
 "nbformat": 4,
 "nbformat_minor": 5
}
